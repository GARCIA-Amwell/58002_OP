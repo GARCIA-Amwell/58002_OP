{
  "nbformat": 4,
  "nbformat_minor": 0,
  "metadata": {
    "colab": {
      "provenance": [],
      "authorship_tag": "ABX9TyN7oeJqfES6j8MDetd8TBcT",
      "include_colab_link": true
    },
    "kernelspec": {
      "name": "python3",
      "display_name": "Python 3"
    },
    "language_info": {
      "name": "python"
    }
  },
  "cells": [
    {
      "cell_type": "markdown",
      "metadata": {
        "id": "view-in-github",
        "colab_type": "text"
      },
      "source": [
        "<a href=\"https://colab.research.google.com/github/GARCIA-Amwell/58002_OP/blob/main/OOP_Concepts.ipynb\" target=\"_parent\"><img src=\"https://colab.research.google.com/assets/colab-badge.svg\" alt=\"Open In Colab\"/></a>"
      ]
    },
    {
      "cell_type": "code",
      "source": [
        "#Class Methods - methods are the functions tha we use to describe the bahavior of the objects. Also defined inside a class\n",
        "\n",
        "class Car:\n",
        "  car_type = \"Sedan\"\n",
        "\n",
        "  def__init__(self, name, mileage):\n",
        "    self.name = name\n",
        "    self.name = mileage\n",
        "\n",
        "  def description(self):\n",
        "    \n"
      ],
      "metadata": {
        "id": "f41bXff6v5M4"
      },
      "execution_count": null,
      "outputs": []
    },
    {
      "cell_type": "code",
      "source": [
        "#Creation of Class\n",
        "\n",
        "class myClass:        #name of the class\n",
        "  y = 4               #property name (with value)\n",
        "\n",
        "p1 = myClass()        #create an object\n",
        "print(p1.y)           #print the value of y (attributes/property)"
      ],
      "metadata": {
        "colab": {
          "base_uri": "https://localhost:8080/"
        },
        "id": "bB5vh5UVw3El",
        "outputId": "e8f19d42-f2ea-4e83-e5d2-4e5a81447a35"
      },
      "execution_count": 9,
      "outputs": [
        {
          "output_type": "stream",
          "name": "stdout",
          "text": [
            "4\n"
          ]
        }
      ]
    },
    {
      "cell_type": "code",
      "source": [
        "class myclass:\n",
        "  pass"
      ],
      "metadata": {
        "id": "O_hwRbkRx46k"
      },
      "execution_count": 10,
      "outputs": []
    },
    {
      "cell_type": "code",
      "source": [
        "#Creation of Method\n",
        "\n",
        "class Persons:\n",
        "  def __init__(self,name,age):\n",
        "    self.name = name\n",
        "    self.age = age\n",
        "\n",
        "  def myfunction(self):\n",
        "    print(\"Hello, my name is\", self.name)\n",
        "\n",
        "teacher = Persons(\"Maria\",40)\n",
        "teacher.myfunction()"
      ],
      "metadata": {
        "colab": {
          "base_uri": "https://localhost:8080/"
        },
        "id": "CevQLdfXyHZr",
        "outputId": "865cd5da-14c5-4efd-f1c0-a54aa306e986"
      },
      "execution_count": 37,
      "outputs": [
        {
          "output_type": "stream",
          "name": "stdout",
          "text": [
            "Hello, my name is Maria\n"
          ]
        }
      ]
    },
    {
      "cell_type": "code",
      "source": [
        "#Modification of Object properties\n",
        "teacher.name = \"Ana\"\n",
        "teacher.myfunction()"
      ],
      "metadata": {
        "id": "nQX0yQv_zuOx"
      },
      "execution_count": null,
      "outputs": []
    },
    {
      "cell_type": "code",
      "source": [
        "#Deletion of Object Properties\n",
        "\n",
        "del teacher.age\n",
        "print(teacher,name)\n",
        "print(teaceher,age)"
      ],
      "metadata": {
        "id": "m53_nQGY0JD2"
      },
      "execution_count": null,
      "outputs": []
    },
    {
      "cell_type": "code",
      "source": [
        "class Shapes:\n",
        "  def __init__(self,side):\n",
        "    self.side = side\n",
        "\n",
        "  def area(self):\n",
        "    return self.side *self.side\n",
        "\n",
        "  def display(self):\n",
        "    print(\"the area of the square is\", self.area())\n",
        "\n",
        "square = Shapes(5)\n",
        "square.display()"
      ],
      "metadata": {
        "colab": {
          "base_uri": "https://localhost:8080/"
        },
        "id": "OOtVfldK0_c8",
        "outputId": "16031baa-bc9b-42d1-97ac-db2f624def22"
      },
      "execution_count": 36,
      "outputs": [
        {
          "output_type": "stream",
          "name": "stdout",
          "text": [
            "the area of the square is 25\n"
          ]
        }
      ]
    },
    {
      "cell_type": "code",
      "source": [
        "class Car:        #parent class\n",
        "\n",
        "  def __init__(self, name, mileage):\n",
        "    self.name = name\n",
        "    self.mileage = mileage\n",
        "\n",
        "  def description(self):\n",
        "    return \"The {self.name} \""
      ],
      "metadata": {
        "id": "P0xhlWFu7ArB"
      },
      "execution_count": null,
      "outputs": []
    },
    {
      "cell_type": "code",
      "source": [
        "#With rectangles\n",
        "class Shapes:\n",
        "    def __init__(self, side1, side2=None):\n",
        "        self.side1 = side1\n",
        "        self.side2 = side2\n",
        "\n",
        "    def area(self):\n",
        "        if self.side2 is None:  # Square\n",
        "            return self.side1 ** 2\n",
        "        else:  # Rectangle\n",
        "            return self.side1 * self.side2\n",
        "\n",
        "    def display(self):\n",
        "        if self.side2 is None:\n",
        "            print(\"The area of the square is\", self.area())\n",
        "        else:\n",
        "            print(\"The area of the rectangle is\", self.area())\n",
        "\n",
        "\n",
        "square = Shapes(5)\n",
        "rectangle = Shapes(5,10)\n",
        "\n",
        "square.display()  \n",
        "rectangle.display()"
      ],
      "metadata": {
        "id": "T0r39ggl9ICH"
      },
      "execution_count": null,
      "outputs": []
    },
    {
      "cell_type": "code",
      "source": [
        "class Shapes:\n",
        "  def __init__(self, side1, side2):\n",
        "    self.side1 = side1\n",
        "    self.side2 = side2\n",
        "  def display_square(self):\n",
        "    print(\"The area of square is\", self.area_square())\n",
        "\n",
        "class Square(Shapes):\n",
        "  def area_square(self):\n",
        "    return self.side1*self.side1\n",
        "\n",
        "square = Square(4,4)\n",
        "\n",
        "class Rectangle(Shapes):\n",
        "  def area_rectangle(self):\n",
        "    print (self.side1*self.side2)\n",
        "\n",
        "rectangle = Rectangle(10,5)\n",
        "\n",
        "print(square.area_square())\n",
        "print(rectangle.area_rectangle())"
      ],
      "metadata": {
        "colab": {
          "base_uri": "https://localhost:8080/"
        },
        "id": "KAybByRC7jYP",
        "outputId": "852cb831-4d71-4792-d64c-b0a429866767"
      },
      "execution_count": 39,
      "outputs": [
        {
          "output_type": "stream",
          "name": "stdout",
          "text": [
            "16\n",
            "50\n",
            "None\n"
          ]
        }
      ]
    },
    {
      "cell_type": "code",
      "source": [
        "#Inheritance\n",
        "\n",
        "class Shapes:\n",
        "  def __init__(self,side1,side2):\n",
        "    self.side1 = side1\n",
        "    self.side2 = side2\n",
        "  \n",
        "class Square(Shapes):\n",
        "  def area_square(self):\n",
        "    return self.side1*self.side1\n",
        "  def display_square(self):\n",
        "    print(\"The area of square is\",self.area_square())\n",
        "\n",
        "\n",
        "class Rectangle(Shapes):\n",
        "  def area_rectangle(self):\n",
        "    print(self.side1*self.side2)\n",
        "  def display_rectangle(self):\n",
        "    print(\"The area of rectangle is\",self.display_rectangle())\n",
        "\n",
        "square = Square(4,4)\n",
        "\n",
        "rectangle = Rectangle(10,5)\n",
        "\n",
        "square.display_square()\n",
        "rectangle.display_rectangle()"
      ],
      "metadata": {
        "id": "JBBm48hX_B2W"
      },
      "execution_count": null,
      "outputs": []
    },
    {
      "cell_type": "code",
      "source": [
        "#Create your own Pythong program that has the following property:\n",
        "#Person as class name\n",
        "# Full name, age, and school as attributes\n",
        "# Identity as method to display fullname, age, and school\n",
        "#person as objective"
      ],
      "metadata": {
        "id": "WkNzBD4r-fn6"
      },
      "execution_count": null,
      "outputs": []
    },
    {
      "cell_type": "code",
      "source": [
        "#ACTIVITY\n",
        "\n",
        "class Person:\n",
        "  def __init__(self,name,age, school):\n",
        "    self.name = name\n",
        "    self.age = age\n",
        "    self.school = school\n",
        "\n",
        "  def identity(self):\n",
        "    print(\"Full name: \", self.name)\n",
        "    print(\"Age: \", self.age)\n",
        "    print(\"School: \", self.school)\n",
        "\n",
        "person = Person(\"Ser Amwell Garcia\", 20, \"Adamson University\")\n",
        "person.identity()"
      ],
      "metadata": {
        "colab": {
          "base_uri": "https://localhost:8080/"
        },
        "id": "Nr8eQ_1-BuOP",
        "outputId": "c43181c4-619e-472e-b2f9-192a5dd1b91e"
      },
      "execution_count": 45,
      "outputs": [
        {
          "output_type": "stream",
          "name": "stdout",
          "text": [
            "Full name:  Ser Amwell Garcia\n",
            "Age:  20\n",
            "School:  Adamson University\n"
          ]
        }
      ]
    }
  ]
}