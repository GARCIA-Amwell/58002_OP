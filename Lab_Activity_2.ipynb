{
  "nbformat": 4,
  "nbformat_minor": 0,
  "metadata": {
    "colab": {
      "provenance": [],
      "authorship_tag": "ABX9TyPSFAQ5CJ2uBjeqLiJYTOH4",
      "include_colab_link": true
    },
    "kernelspec": {
      "name": "python3",
      "display_name": "Python 3"
    },
    "language_info": {
      "name": "python"
    }
  },
  "cells": [
    {
      "cell_type": "markdown",
      "metadata": {
        "id": "view-in-github",
        "colab_type": "text"
      },
      "source": [
        "<a href=\"https://colab.research.google.com/github/GARCIA-Amwell/58002_OP/blob/main/Lab_Activity_2.ipynb\" target=\"_parent\"><img src=\"https://colab.research.google.com/assets/colab-badge.svg\" alt=\"Open In Colab\"/></a>"
      ]
    },
    {
      "cell_type": "markdown",
      "source": [
        "1. Write a Python program that asks the user to enter the radius of a circle and solve its area and perimeter.\n",
        "2. Create a class name Circle allowing you to build a circle with radius and pi attributes.\n",
        "3. Create a method Display() the perimeter and area using an instantiation of a class.\n",
        "4. Create a Perimeter() method to calculate the perimeter of the circle and an Area() method to calculate the area of ​​the circle."
      ],
      "metadata": {
        "id": "wBDALoI1k-_H"
      }
    },
    {
      "cell_type": "code",
      "source": [
        "#ACTIVITY\n",
        "\n",
        "class Circle:\n",
        "    def __init__(self, radius):\n",
        "        self.radius = radius\n",
        "        self.pi = 3.14\n",
        "\n",
        "    def Area(self):\n",
        "        return self.pi * self.radius ** 2\n",
        "\n",
        "    def Perimeter(self):\n",
        "        return 2 * self.pi * self.radius\n",
        "\n",
        "    def Display(self):\n",
        "        print(\"Area: \", self.Area())\n",
        "        print(\"Perimeter: \", self.Perimeter())\n",
        "\n",
        "radius = float(input(\"Enter radius of the circle: \"))\n",
        "c = Circle (radius)\n",
        "c.Display()"
      ],
      "metadata": {
        "colab": {
          "base_uri": "https://localhost:8080/"
        },
        "id": "N5GaUHbloC6W",
        "outputId": "b0a8476c-dcff-4aad-fdb7-3ff7472ffb5b"
      },
      "execution_count": 29,
      "outputs": [
        {
          "output_type": "stream",
          "name": "stdout",
          "text": [
            "Enter radius of the circle: 6\n",
            "Area:  113.04\n",
            "Perimeter:  37.68\n"
          ]
        }
      ]
    }
  ]
}