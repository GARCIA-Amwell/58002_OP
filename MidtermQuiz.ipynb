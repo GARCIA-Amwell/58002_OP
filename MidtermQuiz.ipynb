{
  "nbformat": 4,
  "nbformat_minor": 0,
  "metadata": {
    "colab": {
      "provenance": [],
      "authorship_tag": "ABX9TyPVAfoB1WhDSKGvEwUSV3y9",
      "include_colab_link": true
    },
    "kernelspec": {
      "name": "python3",
      "display_name": "Python 3"
    },
    "language_info": {
      "name": "python"
    }
  },
  "cells": [
    {
      "cell_type": "markdown",
      "metadata": {
        "id": "view-in-github",
        "colab_type": "text"
      },
      "source": [
        "<a href=\"https://colab.research.google.com/github/GARCIA-Amwell/58002_OP/blob/main/MidtermQuiz.ipynb\" target=\"_parent\"><img src=\"https://colab.research.google.com/assets/colab-badge.svg\" alt=\"Open In Colab\"/></a>"
      ]
    },
    {
      "cell_type": "code",
      "source": [
        "class TempConversion:\n",
        "  def __init__(self,temp):\n",
        "    self._temp = temp\n",
        "\n",
        "  def CelsiustoFahrenheit(self):\n",
        "    return (self._temp -32 ) * 5 / 9\n",
        "\n",
        "  def CelsiustoKelvin(self):\n",
        "    return self._temp - 273.15\n",
        "\n",
        "  def FahrenheittoCelsius(self):\n",
        "    return (self._temp * 9) / 5 + 32\n",
        "\n",
        "  def FahrenheittoKelvin (self):\n",
        "    return (self._temp + 1.8) * - 459.67\n",
        "\n",
        "  def KelvintoCelsius(self):\n",
        "    return (self._temp + 273.15)\n",
        "\n",
        "  def KelvintoFahrenheit(self):\n",
        "    return (self._temp + 459.67) / 1.8\n",
        "\n",
        "  def convert (self):\n",
        "    print(\"Convert from Celsius to Fahrenheit: \", self.CelsiustoFahrenheit())\n",
        "    print(\"Convert from Celsius to Kelvin: \", self.CelsiustoKelvin())\n",
        "    print(\"Convert from Fahrenheit to Celsius: \", self.FahrenheittoCelsius())\n",
        "    print(\"Convert from Fahrenheit to Kelvin: \", self.FahrenheittoKelvin())\n",
        "    print(\"Convert from Kelvin to Celsius: \", self.KelvintoCelsius())\n",
        "    print(\"Convert from Kelvin to Fahrenheit: \", self.KelvintoFahrenheit())\n",
        "\n",
        "temp = float(input(\"Enter the temperature: \"))\n",
        "TC = TempConversion(temp)\n",
        "TC.convert()"
      ],
      "metadata": {
        "colab": {
          "base_uri": "https://localhost:8080/"
        },
        "id": "cTfsLoZNByh1",
        "outputId": "33538880-d1ee-49f0-a6ac-dba416269fc3"
      },
      "execution_count": 51,
      "outputs": [
        {
          "output_type": "stream",
          "name": "stdout",
          "text": [
            "Enter the temperature: 13\n",
            "Convert from Celsius to Fahrenheit:  -10.555555555555555\n",
            "Convert from Celsius to Kelvin:  -260.15\n",
            "Convert from Fahrenheit to Celsius:  55.4\n",
            "Convert from Fahrenheit to Kelvin:  -6803.116000000001\n",
            "Convert from Kelvin to Celsius:  286.15\n",
            "Convert from Kelvin to Fahrenheit:  262.59444444444443\n"
          ]
        }
      ]
    }
  ]
}