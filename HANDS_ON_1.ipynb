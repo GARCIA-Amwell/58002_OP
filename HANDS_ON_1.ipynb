{
  "nbformat": 4,
  "nbformat_minor": 0,
  "metadata": {
    "colab": {
      "provenance": [],
      "authorship_tag": "ABX9TyMHrkC7MhjE1pAhPrY4sBo3",
      "include_colab_link": true
    },
    "kernelspec": {
      "name": "python3",
      "display_name": "Python 3"
    },
    "language_info": {
      "name": "python"
    }
  },
  "cells": [
    {
      "cell_type": "markdown",
      "metadata": {
        "id": "view-in-github",
        "colab_type": "text"
      },
      "source": [
        "<a href=\"https://colab.research.google.com/github/GARCIA-Amwell/58002_OP/blob/main/HANDS_ON_1.ipynb\" target=\"_parent\"><img src=\"https://colab.research.google.com/assets/colab-badge.svg\" alt=\"Open In Colab\"/></a>"
      ]
    },
    {
      "cell_type": "code",
      "execution_count": null,
      "metadata": {
        "id": "YYHjlhHf9fHM"
      },
      "outputs": [],
      "source": [
        "#HANDS ON 1"
      ]
    },
    {
      "cell_type": "markdown",
      "source": [
        "1. CREATE A PYTHON THAT DISPLAYS THE NAME OF THREE STUDENTS {STUDENT 1, STUDENT 2, STUDENT 3} AND THE TERM GRADES\n",
        "2. CREATE A CLASS NAME AND PERSON ATTRIBUTE - STD1, STD2, STD3, PRE, MID, FIN\n",
        "3. COMPUTE FOR THE AVERAGE OF EACH TERM GRADEUSING  GRADE() METHOD\n",
        "4. INFORMATION OF THE STUDENTS SHOULD BE HIDDEN FROM OTHERS"
      ],
      "metadata": {
        "id": "8waglQAJ-SFb"
      }
    },
    {
      "cell_type": "code",
      "source": [
        "class Person:\n",
        "  def __init__(self, Student, TermGrade):\n",
        "    self.Student = Student\n",
        "    self.TermGrade = TermGrade\n",
        "  def display(self):\n",
        "    print(\"The name of student: \", self.Student )\n",
        "    print(\"and the Prelim Grades is: \", self.TermGrade)\n",
        "    print(\"and the Midterm Grades is: \", self.TermGrade)\n",
        "    print(\"and the Finals Grades is: \", self.TermGrade)\n",
        "\n",
        "  def average_grade(self):\n",
        "    return (self.__pre + self.__mid + self.__fin) / 3\n",
        "    \n",
        "class grade (Person):\n",
        "  pass\n",
        "person = Person(\"Student 1\", \"75\", \"80\", \"90\")\n",
        "person.display()\n",
        "\n",
        "person = Person(\"Student 2\", \"80\", \"80\", \"85\")\n",
        "person.display()\n",
        "\n",
        "person = Person(\"Student 3\", \"75\", \"90\", \"75\")\n",
        "person.display()\n"
      ],
      "metadata": {
        "id": "4mR0qE1R-84M"
      },
      "execution_count": null,
      "outputs": []
    },
    {
      "cell_type": "code",
      "source": [
        "class Person:\n",
        "    def __init__(self, std1, std2, std3, pre, mid, fin):\n",
        "        self.__std1 = std1\n",
        "        self.__std2 = std2\n",
        "        self.__std3 = std3\n",
        "        self.__pre = pre\n",
        "        self.__mid = mid\n",
        "        self.__fin = fin\n",
        "\n",
        "    def Grade(self):\n",
        "        return (self.__prelim + self.__midterm + self.__finals) / 3\n",
        "\n",
        "    def display(self):\n",
        "      print(\"The name of student: \", self.Student)\n",
        "      print(\"Prelim Grades is: \", self.pre)\n",
        "      print(\"Midterm Grades is: \", self.mid)\n",
        "      print(\"Finals Grades is: \", self.fin)\n",
        "\n",
        "class student1(Person):\n",
        "  pass\n",
        "class student2(Person):\n",
        "  pass\n",
        "class student3(Person):\n",
        "  pass\n",
        "\n",
        "student = Person (\"Student 1\", \"70\", \"80\", \"90\")\n",
        "student.display()\n",
        "\n",
        "student = Person (\"Student 2\", \"80\", \"85\", \"90\")\n",
        "student.display()\n",
        "\n",
        "student = Person (\"Student 1\", \"75\", \"85\", \"95\")\n",
        "student.display()\n"
      ],
      "metadata": {
        "colab": {
          "base_uri": "https://localhost:8080/",
          "height": 235
        },
        "id": "bvdoFa0GQXqs",
        "outputId": "58173b12-22e3-456a-cf01-60b92b75afbd"
      },
      "execution_count": 41,
      "outputs": [
        {
          "output_type": "error",
          "ename": "TypeError",
          "evalue": "ignored",
          "traceback": [
            "\u001b[0;31m---------------------------------------------------------------------------\u001b[0m",
            "\u001b[0;31mTypeError\u001b[0m                                 Traceback (most recent call last)",
            "\u001b[0;32m<ipython-input-41-4be58aaec5d1>\u001b[0m in \u001b[0;36m<module>\u001b[0;34m\u001b[0m\n\u001b[1;32m     24\u001b[0m   \u001b[0;32mpass\u001b[0m\u001b[0;34m\u001b[0m\u001b[0;34m\u001b[0m\u001b[0m\n\u001b[1;32m     25\u001b[0m \u001b[0;34m\u001b[0m\u001b[0m\n\u001b[0;32m---> 26\u001b[0;31m \u001b[0mstudent\u001b[0m \u001b[0;34m=\u001b[0m \u001b[0mPerson\u001b[0m \u001b[0;34m(\u001b[0m\u001b[0;34m\"Student 1\"\u001b[0m\u001b[0;34m,\u001b[0m \u001b[0;34m\"70\"\u001b[0m\u001b[0;34m,\u001b[0m \u001b[0;34m\"80\"\u001b[0m\u001b[0;34m,\u001b[0m \u001b[0;34m\"90\"\u001b[0m\u001b[0;34m)\u001b[0m\u001b[0;34m\u001b[0m\u001b[0;34m\u001b[0m\u001b[0m\n\u001b[0m\u001b[1;32m     27\u001b[0m \u001b[0mstudent\u001b[0m\u001b[0;34m.\u001b[0m\u001b[0mdisplay\u001b[0m\u001b[0;34m(\u001b[0m\u001b[0;34m)\u001b[0m\u001b[0;34m\u001b[0m\u001b[0;34m\u001b[0m\u001b[0m\n\u001b[1;32m     28\u001b[0m \u001b[0;34m\u001b[0m\u001b[0m\n",
            "\u001b[0;31mTypeError\u001b[0m: __init__() missing 2 required positional arguments: 'mid' and 'fin'"
          ]
        }
      ]
    },
    {
      "cell_type": "code",
      "source": [
        "print (\"The semestral grade\")"
      ],
      "metadata": {
        "id": "9cPQFy2JTwGs"
      },
      "execution_count": null,
      "outputs": []
    },
    {
      "cell_type": "code",
      "source": [
        "std1 = student1(70,80,90)\n",
        "std2 = student2(75,85,95)\n",
        "std3 = student3(80,90,100)\n",
        "\n",
        "std1.Grade()\n",
        "std2.Grade()\n",
        "std3.Grade()\n",
        "\n",
        "class student(Person):\n",
        "  pass\n",
        "student = Person (\"Student 1\", \"70\", \"80\", \"90\")\n",
        "student.display()\n",
        "\n",
        "student = Person (\"Student 2\", \"80\", \"85\", \"90\")\n",
        "student.display()\n",
        "\n",
        "student = Person (\"Student 1\", \"75\", \"85\", \"95\")\n",
        "student.display()"
      ],
      "metadata": {
        "id": "631C3xHJSGWU"
      },
      "execution_count": null,
      "outputs": []
    },
    {
      "cell_type": "code",
      "source": [
        "class Person:\n",
        "    def __init__(self, std1, std2, std3, prelim, midterm, finals):\n",
        "        self.__std1 = std1\n",
        "        self.__std2 = std2\n",
        "        self.__std3 = std3\n",
        "        self.__prelim = prelim\n",
        "        self.__midterm = midterm\n",
        "        self.__finals = finals\n",
        "\n",
        "    def Grade(self):\n",
        "        return (self.__prelim + self.__midterm + self.__finals) / 3\n",
        "\n",
        "    def display1(self):\n",
        "        print(self.__std1, self.Grade(), \"\\n\")\n",
        "\n",
        "    def display2(self):\n",
        "        print(self.__std2, self.Grade(), \"\\n\")\n",
        "\n",
        "    def display3(self):\n",
        "        print(self.__std3, self.Grade())\n",
        "\n",
        "\n",
        "class student1(Person):\n",
        "    term_grade = Person(\"Average of Student 1 =\", 0, 0, \n",
        "                        float(input(\"Prelim Grade: \")), \n",
        "                        float(input(\"Midterm Grade: \")),\n",
        "                        float(input(\"Final Grade: \")))\n",
        "    term_grade.display1()\n",
        "\n",
        "\n",
        "class student2(Person):\n",
        "    term_grade = Person(0, \"Average of Student 2 =\", 0, \n",
        "                        float(input(\"Prelim Grade: \")), \n",
        "                        float(input(\"Midterm Grade: \")),\n",
        "                        float(input(\"Final Grade: \")))\n",
        "    term_grade.display2()\n",
        "\n",
        "\n",
        "class student3(Person):\n",
        "    term_grade = Person(0, 0, \"Average of Student 3 =\", \n",
        "                        float(input(\"Prelim Grade: \")),\n",
        "                        float(input(\"Midterm Grade: \")), \n",
        "                        float(input(\"Final Grade: \")))\n",
        "    term_grade.display3()"
      ],
      "metadata": {
        "id": "dgQAkBpkPvib"
      },
      "execution_count": null,
      "outputs": []
    }
  ]
}