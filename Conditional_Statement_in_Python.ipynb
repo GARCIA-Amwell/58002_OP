{
  "nbformat": 4,
  "nbformat_minor": 0,
  "metadata": {
    "colab": {
      "provenance": [],
      "authorship_tag": "ABX9TyO7Vj0Gy8EIvQIs1vKqUaVc",
      "include_colab_link": true
    },
    "kernelspec": {
      "name": "python3",
      "display_name": "Python 3"
    },
    "language_info": {
      "name": "python"
    }
  },
  "cells": [
    {
      "cell_type": "markdown",
      "metadata": {
        "id": "view-in-github",
        "colab_type": "text"
      },
      "source": [
        "<a href=\"https://colab.research.google.com/github/GARCIA-Amwell/58002_OP/blob/main/Conditional_Statement_in_Python.ipynb\" target=\"_parent\"><img src=\"https://colab.research.google.com/assets/colab-badge.svg\" alt=\"Open In Colab\"/></a>"
      ]
    },
    {
      "cell_type": "markdown",
      "source": [
        "**As control structure**\n"
      ],
      "metadata": {
        "id": "S4TfiSwNi5xS"
      }
    },
    {
      "cell_type": "code",
      "execution_count": null,
      "metadata": {
        "id": "OQixyNcficW0"
      },
      "outputs": [],
      "source": [
        "equals: a==b\n",
        "-not equal: a!=b\n",
        "-less than: a < b\n",
        "-greater than: a > b\n",
        "-if b > a: \n",
        "  print(\"b is greater than a\")\n"
      ]
    },
    {
      "cell_type": "markdown",
      "source": [
        "if statement:\n",
        "\n",
        "\n",
        "elif statement:\n",
        "- declaration of variable"
      ],
      "metadata": {
        "id": "gVD0TeRCjjHh"
      }
    },
    {
      "cell_type": "code",
      "source": [
        "print(\"b is ghreatr than a\")\n",
        "elif a==b:\n",
        "print(\"a is greter than b\")\n",
        "else:\n",
        "print(\"a is greater than b\")"
      ],
      "metadata": {
        "id": "SLyYdvRUj493"
      },
      "execution_count": null,
      "outputs": []
    },
    {
      "cell_type": "markdown",
      "source": [
        "3. Else statement\n",
        "  "
      ],
      "metadata": {
        "id": "C9BfAA8akDOi"
      }
    },
    {
      "cell_type": "code",
      "source": [
        "a = 200\n",
        "b = 23\n",
        "if b> a:\n",
        "  print(\"b is greater than a\")\n",
        "  elif a==b:\n",
        "    print(\"a and b are equal\")\n",
        "    "
      ],
      "metadata": {
        "id": "KVPmCdKfkIKg"
      },
      "execution_count": null,
      "outputs": []
    },
    {
      "cell_type": "markdown",
      "source": [
        "Shorthand if statement\n",
        "-\n",
        "\n",
        "Shorthand if..else statement\n",
        "-"
      ],
      "metadata": {
        "id": "4GQO-UD0kaYh"
      }
    },
    {
      "cell_type": "code",
      "source": [
        "#if statement\n",
        "a= 100\n",
        "b= 50\n",
        "if a>b:\n",
        "  print(\"a is greater than b\")\n"
      ],
      "metadata": {
        "colab": {
          "base_uri": "https://localhost:8080/"
        },
        "id": "ejyALEOIk1jh",
        "outputId": "ccfac1c3-c03c-44a6-8803-42b3776a57db"
      },
      "execution_count": 8,
      "outputs": [
        {
          "output_type": "stream",
          "name": "stdout",
          "text": [
            "a is greater than b\n"
          ]
        }
      ]
    },
    {
      "cell_type": "code",
      "source": [
        "#elif statement\n",
        "a= 100\n",
        "b= 500\n",
        "if a>b:\n",
        "  print (\"a is greater than b\")\n",
        "elif a<b:\n",
        "  print(\"a is less than b\")"
      ],
      "metadata": {
        "colab": {
          "base_uri": "https://localhost:8080/"
        },
        "id": "G7U8Ojp1lQ_x",
        "outputId": "2e8e8b03-5328-455e-d21b-c089c1d31abd"
      },
      "execution_count": 7,
      "outputs": [
        {
          "output_type": "stream",
          "name": "stdout",
          "text": [
            "a is less than b\n"
          ]
        }
      ]
    },
    {
      "cell_type": "code",
      "source": [
        "#else statement\n",
        "a= 500\n",
        "b= 500\n",
        "if a>b:\n",
        "  print (\"a is greater than b\")\n",
        "elif a<b:\n",
        "  print(\"a is less than b\")\n",
        "else:\n",
        "  print(\"a is equal to b\")"
      ],
      "metadata": {
        "colab": {
          "base_uri": "https://localhost:8080/"
        },
        "id": "yoeIixxDlpF5",
        "outputId": "2a92a913-2424-4c26-d715-4bd6b37a62a5"
      },
      "execution_count": 10,
      "outputs": [
        {
          "output_type": "stream",
          "name": "stdout",
          "text": [
            "a is equal to b\n"
          ]
        }
      ]
    },
    {
      "cell_type": "code",
      "source": [
        "#shorthand if \n",
        "if a==b: print (\"a is equal to b\")"
      ],
      "metadata": {
        "id": "EHt9lg-jmLiR"
      },
      "execution_count": 30,
      "outputs": []
    },
    {
      "cell_type": "code",
      "source": [
        "#short hand if..else\n",
        "print(\"a is greater than b\")if a>b else print(\"a is less than b\")"
      ],
      "metadata": {
        "colab": {
          "base_uri": "https://localhost:8080/"
        },
        "id": "o3PV9rnhme_I",
        "outputId": "dfc32003-74c6-43e3-d7c0-b57676689e21"
      },
      "execution_count": 12,
      "outputs": [
        {
          "output_type": "stream",
          "name": "stdout",
          "text": [
            "a is less than b\n"
          ]
        }
      ]
    },
    {
      "cell_type": "code",
      "source": [
        "#and both\n",
        "a = 200\n",
        "b = 33\n",
        "c = 50\n",
        "if a>b or a>c:\n",
        "  print(\"both conditions are true\")"
      ],
      "metadata": {
        "colab": {
          "base_uri": "https://localhost:8080/"
        },
        "id": "hIUNNEdsnAHR",
        "outputId": "da6627f3-89b9-400a-8723-69a8e237602a"
      },
      "execution_count": 13,
      "outputs": [
        {
          "output_type": "stream",
          "name": "stdout",
          "text": [
            "both conditions are true\n"
          ]
        }
      ]
    },
    {
      "cell_type": "code",
      "source": [
        "#or at \n",
        "a = 200\n",
        "b = 33\n",
        "c = 50\n",
        "if a>b or a>c:\n",
        "  print(\"at least one of the conditions is true\")\n",
        "#else:\n",
        "  #print(\"wala lang\")"
      ],
      "metadata": {
        "colab": {
          "base_uri": "https://localhost:8080/"
        },
        "id": "8hQ9eG94nhRZ",
        "outputId": "294310a7-1a62-4142-d169-a715302e528a"
      },
      "execution_count": 17,
      "outputs": [
        {
          "output_type": "stream",
          "name": "stdout",
          "text": [
            "at least one of the conditions is true\n"
          ]
        }
      ]
    },
    {
      "cell_type": "code",
      "source": [
        "#and condition\n",
        "s = 75\n",
        "t = 70\n",
        "\n",
        "if s>t and t<s:\n",
        "  print(\"s > t and t < s\")"
      ],
      "metadata": {
        "colab": {
          "base_uri": "https://localhost:8080/"
        },
        "id": "5vfKC3Dyn8GY",
        "outputId": "2859c230-64c9-4df5-a7ec-f0baedc4290a"
      },
      "execution_count": 18,
      "outputs": [
        {
          "output_type": "stream",
          "name": "stdout",
          "text": [
            "s > t and t < s\n"
          ]
        }
      ]
    },
    {
      "cell_type": "code",
      "source": [
        "#nested if\n",
        "x = 41\n",
        "\n",
        "if x>10:\n",
        "  print(\"above ten,\")\n",
        "  if x>20:\n",
        "    print(\"and also above 20!\")\n",
        "  else:\n",
        "      print(\"but not above 20.\")"
      ],
      "metadata": {
        "colab": {
          "base_uri": "https://localhost:8080/"
        },
        "id": "SA9bWHCfoZsp",
        "outputId": "8e9114eb-abe2-4756-ce46-3401071c4877"
      },
      "execution_count": 25,
      "outputs": [
        {
          "output_type": "stream",
          "name": "stdout",
          "text": [
            "above ten,\n",
            "and also above 20!\n"
          ]
        }
      ]
    },
    {
      "cell_type": "code",
      "source": [
        "x = 51\n",
        "if x>10:\n",
        "  print(\"above 10\")\n",
        "  if x>20:\n",
        "    print(\"above 20\")\n",
        "  else:\n",
        "      print(\"below20\")\n",
        "else: \n",
        "  print(\"below 10\")      "
      ],
      "metadata": {
        "colab": {
          "base_uri": "https://localhost:8080/"
        },
        "id": "aCv3ZItRpDQ5",
        "outputId": "3c8bb93d-a667-4b65-f0f2-edc03dbf0e50"
      },
      "execution_count": 27,
      "outputs": [
        {
          "output_type": "stream",
          "name": "stdout",
          "text": [
            "above 10\n",
            "above 20\n"
          ]
        }
      ]
    },
    {
      "cell_type": "code",
      "source": [
        "x=int(int(input()))\n",
        "if x>20:\n",
        "  print (\"above 20\")\n",
        "  if x>30:\n",
        "    print(\"above 30\")\n",
        "    if x>40:\n",
        "      print(\"above 40\")\n",
        "      if x>50:\n",
        "        print(\"above 50\")\n",
        "      else:\n",
        "        print(\"below 50\")\n",
        "    else:\n",
        "      print (\"below 40\")\n",
        "  else:\n",
        "    print(\"below 30\")\n",
        "else:\n",
        "  print(\"below 20\")"
      ],
      "metadata": {
        "colab": {
          "base_uri": "https://localhost:8080/"
        },
        "id": "7W3tfd0krB5i",
        "outputId": "4ef53532-884d-4022-dfd3-371d7f243c2d"
      },
      "execution_count": 42,
      "outputs": [
        {
          "output_type": "stream",
          "name": "stdout",
          "text": [
            "15\n",
            "below 20\n"
          ]
        }
      ]
    },
    {
      "cell_type": "code",
      "source": [
        "#EXAMPLE 1\n",
        "x = int(int(input()))\n",
        "if x>=18:\n",
        "  print(\"qualified to vote\")\n",
        "else:\n",
        "    print(\"not qualified to vote\")"
      ],
      "metadata": {
        "colab": {
          "base_uri": "https://localhost:8080/"
        },
        "id": "4ydidxPcqXUp",
        "outputId": "047d07b6-6dc4-47b2-d2be-a15ce485b78e"
      },
      "execution_count": 45,
      "outputs": [
        {
          "output_type": "stream",
          "name": "stdout",
          "text": [
            "258\n",
            "qualified to vote\n"
          ]
        }
      ]
    },
    {
      "cell_type": "code",
      "source": [
        "#EXAMPLE 2\n",
        "number = float(input(\"Enter a number: \"))\n",
        "if x==0:\n",
        "  print(\"ZERO\")\n",
        "elif x>1:\n",
        "    print(\"POSITIVE\")\n",
        "else:\n",
        "  print(\"NEGATIVE\")"
      ],
      "metadata": {
        "colab": {
          "base_uri": "https://localhost:8080/"
        },
        "id": "iiVg-4Ybv-Fg",
        "outputId": "f5c74925-6f29-453c-c27a-4cec2fc03949"
      },
      "execution_count": 52,
      "outputs": [
        {
          "output_type": "stream",
          "name": "stdout",
          "text": [
            "Enter a number: 20\n",
            "POSITIVE\n"
          ]
        }
      ]
    },
    {
      "cell_type": "code",
      "source": [
        "#EXAMPLE 3\n",
        "x = int(input(\"Enter your grade: \"))\n",
        "if x<0:\n",
        "  print(\"Invalid Grade. Grades must be a postive number\")\n",
        "if x>=70:\n",
        "  print(\"Passed!\")\n",
        "elif x<=69 and x>=65:\n",
        "    print(\"Remedial\")\n",
        "elif x<=65 and x>=0:\n",
        "  print(\"Failed\")"
      ],
      "metadata": {
        "colab": {
          "base_uri": "https://localhost:8080/"
        },
        "id": "cicBGNSTtSsw",
        "outputId": "a38c79e4-341d-4777-e2c3-a1d31f9128c8"
      },
      "execution_count": 56,
      "outputs": [
        {
          "output_type": "stream",
          "name": "stdout",
          "text": [
            "Enter your grade: 52\n",
            "Failed\n"
          ]
        }
      ]
    }
  ]
}