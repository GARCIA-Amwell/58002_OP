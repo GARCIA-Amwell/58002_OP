{
  "nbformat": 4,
  "nbformat_minor": 0,
  "metadata": {
    "colab": {
      "provenance": [],
      "authorship_tag": "ABX9TyMYIhBIK8VEqjSzCm99R9ft",
      "include_colab_link": true
    },
    "kernelspec": {
      "name": "python3",
      "display_name": "Python 3"
    },
    "language_info": {
      "name": "python"
    }
  },
  "cells": [
    {
      "cell_type": "markdown",
      "metadata": {
        "id": "view-in-github",
        "colab_type": "text"
      },
      "source": [
        "<a href=\"https://colab.research.google.com/github/GARCIA-Amwell/58002_OP/blob/main/OOP_Concepts_2.ipynb\" target=\"_parent\"><img src=\"https://colab.research.google.com/assets/colab-badge.svg\" alt=\"Open In Colab\"/></a>"
      ]
    },
    {
      "cell_type": "code",
      "source": [
        "class Birds:\n",
        "  def __init__(self, brid, name):\n",
        "    self.bird_bird = bird_name\n",
        "  def flying_birds(self):\n",
        "    "
      ],
      "metadata": {
        "id": "umcdEZF06e0h"
      },
      "execution_count": null,
      "outputs": []
    },
    {
      "cell_type": "code",
      "source": [
        "vulture = bird(\"Griffon VUlture\")"
      ],
      "metadata": {
        "id": "kmt3wHr663UX"
      },
      "execution_count": null,
      "outputs": []
    },
    {
      "cell_type": "markdown",
      "source": [
        "**MANGLING WITH DOUBLE UNDERSCORE**"
      ],
      "metadata": {
        "id": "6VbvjGJ07zff"
      }
    },
    {
      "cell_type": "code",
      "source": [
        "class foo:\n",
        "  def __init__(self, a, b):\n",
        "    self.a = a\n",
        "    self.b = b\n",
        "  def add(self):\n",
        "    return self.a + self.b\n",
        "foo_object = foo(3,4)\n",
        "foo_object.add()"
      ],
      "metadata": {
        "colab": {
          "base_uri": "https://localhost:8080/"
        },
        "id": "LS-LizV673k2",
        "outputId": "5d6c3224-0832-4670-cb3d-79db16b95416"
      },
      "execution_count": 5,
      "outputs": [
        {
          "output_type": "execute_result",
          "data": {
            "text/plain": [
              "7"
            ]
          },
          "metadata": {},
          "execution_count": 5
        }
      ]
    },
    {
      "cell_type": "code",
      "source": [],
      "metadata": {
        "id": "SIac-qVH-mFV"
      },
      "execution_count": null,
      "outputs": []
    },
    {
      "cell_type": "code",
      "source": [
        "#CLASS WITH MULTIPLE OBJECTS\n",
        "\n",
        "class birds:\n",
        "  def __init__(self, name_birds):\n",
        "    self.name_birds = name_birds\n",
        "  def flying_birds(self):\n",
        "    print(f\"The {self.name_birds} is the flying bird above the sky\")\n",
        "  def non_flying_birds(self):\n",
        "    print(f\"The {self.name_birds} is the non flying birds\")\n",
        "\n",
        "eagle = birds(\"Eagle\")\n",
        "Chicken = birds(\"Chicken\")\n",
        "eagle.flying_birds()\n",
        "Chicken.non_flying_birds()"
      ],
      "metadata": {
        "colab": {
          "base_uri": "https://localhost:8080/"
        },
        "id": "0qIQ46tQ9Nn3",
        "outputId": "8a5914da-8b85-45a6-df22-0ef4c8654cf1"
      },
      "execution_count": 23,
      "outputs": [
        {
          "output_type": "stream",
          "name": "stdout",
          "text": [
            "The Eagle is the flying bird above the sky\n",
            "The Chicken is the non flying birds\n"
          ]
        }
      ]
    },
    {
      "cell_type": "code",
      "source": [
        "#ENCAPSULATION\n",
        "\n",
        "class foo:\n",
        "  def __init__(self, a, b):\n",
        "    self.a = a\n",
        "    self.b = b\n",
        "  def add(self):\n",
        "    return self.a + self.b\n",
        "    \n",
        "foo_object = foo(3,4)\n",
        "foo_object.add()"
      ],
      "metadata": {
        "colab": {
          "base_uri": "https://localhost:8080/"
        },
        "id": "A9mppfef_Yzm",
        "outputId": "479bf572-6235-404d-fedd-82fe8ca1e525"
      },
      "execution_count": 15,
      "outputs": [
        {
          "output_type": "execute_result",
          "data": {
            "text/plain": [
              "7"
            ]
          },
          "metadata": {},
          "execution_count": 15
        }
      ]
    },
    {
      "cell_type": "code",
      "source": [
        "#INHERITANCE\n",
        "\n",
        "class Person:\n",
        "  def __init__(self, name, birthdate):\n",
        "    self.name = name\n",
        "    self.birthdate = birthdate\n",
        "  def display(self):\n",
        "    print(\"My name is: \", self.name)\n",
        "    print(\"My birthdate is: \", self.birthdate)\n",
        "    \n",
        "person = Person(\"Garcia\", \"July 14, 2002\")\n",
        "person.display()"
      ],
      "metadata": {
        "colab": {
          "base_uri": "https://localhost:8080/"
        },
        "id": "UPXRxpjvA0l-",
        "outputId": "02aed31b-d2a3-4b47-97c5-05dadbd4a161"
      },
      "execution_count": 27,
      "outputs": [
        {
          "output_type": "stream",
          "name": "stdout",
          "text": [
            "My name is:  Garcia\n",
            "My birthdate is:  July 14, 2002\n"
          ]
        }
      ]
    },
    {
      "cell_type": "code",
      "source": [
        "class Person:\n",
        "  def __init__(self, name, birthdate):\n",
        "    self.name = name\n",
        "    self.birthdate = birthdate\n",
        "  def display(self):\n",
        "    print(\"My name is: \", self.name)\n",
        "    print(\"My birthdate is: \", self.birthdate)\n",
        "class Student(Person):\n",
        "  pass                                                                            #pass is a parameter in python that declares a function\n",
        "person = Person(\"Garcia\", \"July 14, 2002\")\n",
        "person.display()\n",
        "\n",
        "student = Person(\"Garcia\", \"July 14, 2002\")\n",
        "student.display()"
      ],
      "metadata": {
        "colab": {
          "base_uri": "https://localhost:8080/"
        },
        "id": "e7MW4jAqCEbd",
        "outputId": "1ba97f50-04fd-46d0-8c7c-e43a9cc96bbc"
      },
      "execution_count": 31,
      "outputs": [
        {
          "output_type": "stream",
          "name": "stdout",
          "text": [
            "My name is:  Garcia\n",
            "My birthdate is:  July 14, 2002\n",
            "My name is:  Garcia\n",
            "My birthdate is:  July 14, 2002\n"
          ]
        }
      ]
    },
    {
      "cell_type": "code",
      "source": [
        "# Create a class name Shapes (5 shapes)\n",
        "# attributes side\n",
        "# create a function/method that displays the\n",
        "# no. of sides of each shape\n",
        "# apply inheritance and encapsulation\n",
        "\n",
        "shapes = Shapes (\"Triangle\", \"Square\", \"Pentagon\", \"Hexagon\", \"Heptagon\")\n",
        "shapes.display()"
      ],
      "metadata": {
        "id": "Bes_eTeNCzOl"
      },
      "execution_count": null,
      "outputs": []
    },
    {
      "cell_type": "code",
      "source": [
        "class Shapes:\n",
        "  def __init__(self, name, sides):\n",
        "    self.name = name\n",
        "    self.sides = sides\n",
        "  def display(self):\n",
        "    print(\"The name of the shape is:\", self.name)\n",
        "    print(\"and the no. of sides are:\", self.sides)  \n",
        "class shape(Shapes):\n",
        "  pass\n",
        "shapes = Shapes(\"Triangle\", \"3\")\n",
        "shapes.display()\n",
        "\n",
        "shape = Shapes(\"Square\", \"4\")\n",
        "shape.display()\n",
        "\n",
        "shape = Shapes(\"Pentagon\", \"5\")\n",
        "shape.display()\n",
        "\n",
        "shape = Shapes(\"Hexagon\", \"6\")\n",
        "shape.display()\n",
        "\n",
        "shape = Shapes(\"Heptagon\", \"7\")\n",
        "shape.display()"
      ],
      "metadata": {
        "colab": {
          "base_uri": "https://localhost:8080/"
        },
        "id": "ub6pWqqFDUl7",
        "outputId": "26c74318-52e5-4ea0-b58c-9588d9f5f34e"
      },
      "execution_count": 43,
      "outputs": [
        {
          "output_type": "stream",
          "name": "stdout",
          "text": [
            "The name of the shape is: Triangle\n",
            "and the no. of sides are: 3\n",
            "The name of the shape is: Square\n",
            "and the no. of sides are: 4\n",
            "The name of the shape is: Pentagon\n",
            "and the no. of sides are: 5\n",
            "The name of the shape is: Hexagon\n",
            "and the no. of sides are: 6\n",
            "The name of the shape is: Heptagon\n",
            "and the no. of sides are: 7\n"
          ]
        }
      ]
    }
  ]
}