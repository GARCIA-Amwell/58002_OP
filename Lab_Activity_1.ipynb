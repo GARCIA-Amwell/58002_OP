{
  "nbformat": 4,
  "nbformat_minor": 0,
  "metadata": {
    "colab": {
      "provenance": [],
      "authorship_tag": "ABX9TyP73hYMtta4PUyS9WW5VhR1",
      "include_colab_link": true
    },
    "kernelspec": {
      "name": "python3",
      "display_name": "Python 3"
    },
    "language_info": {
      "name": "python"
    }
  },
  "cells": [
    {
      "cell_type": "markdown",
      "metadata": {
        "id": "view-in-github",
        "colab_type": "text"
      },
      "source": [
        "<a href=\"https://colab.research.google.com/github/GARCIA-Amwell/58002_OP/blob/main/Lab_Activity_1.ipynb\" target=\"_parent\"><img src=\"https://colab.research.google.com/assets/colab-badge.svg\" alt=\"Open In Colab\"/></a>"
      ]
    },
    {
      "cell_type": "code",
      "source": [
        "n=20\n",
        "totalnumbers = 0\n",
        "totalsum = 0\n",
        "\n",
        "while n >= 0:\n",
        "  totalsum += n\n",
        "  totalnumbers += 1\n",
        "  n-=1\n",
        "\n",
        "if n < 0:\n",
        "    average = totalsum / totalnumbers\n",
        "    print(f\"Total numbers: {totalnumbers}\")\n",
        "    print(f\"Sum: {totalsum}\")\n",
        "    print(f\"Average: {average}\")"
      ],
      "metadata": {
        "colab": {
          "base_uri": "https://localhost:8080/"
        },
        "id": "0mjUFwoy3CQV",
        "outputId": "1900cda9-2c16-4596-9375-464ed53a0e69"
      },
      "execution_count": 4,
      "outputs": [
        {
          "output_type": "stream",
          "name": "stdout",
          "text": [
            "Total numbers: 21\n",
            "Sum: 210\n",
            "Average: 10.0\n"
          ]
        }
      ]
    }
  ]
}