{
  "nbformat": 4,
  "nbformat_minor": 0,
  "metadata": {
    "colab": {
      "provenance": [],
      "authorship_tag": "ABX9TyMR+/R+jHHNGdnPgK1aZQjE",
      "include_colab_link": true
    },
    "kernelspec": {
      "name": "python3",
      "display_name": "Python 3"
    },
    "language_info": {
      "name": "python"
    }
  },
  "cells": [
    {
      "cell_type": "markdown",
      "metadata": {
        "id": "view-in-github",
        "colab_type": "text"
      },
      "source": [
        "<a href=\"https://colab.research.google.com/github/GARCIA-Amwell/58002_OP/blob/main/Midterm%20Exam.ipynb\" target=\"_parent\"><img src=\"https://colab.research.google.com/assets/colab-badge.svg\" alt=\"Open In Colab\"/></a>"
      ]
    },
    {
      "cell_type": "code",
      "source": [
        "#Midterm Exam Problem 1\n",
        "\n",
        "class Circle:\n",
        "    def __init__(self, radius):\n",
        "        self.radius = radius\n",
        "        self.pi = 3.14\n",
        "\n",
        "    def Area(self):\n",
        "        return self.pi * self.radius ** 2\n",
        "\n",
        "    def Perimeter(self):\n",
        "        return 2 * self.pi * self.radius\n",
        "\n",
        "    def Display(self):\n",
        "        print(\"Area: \", self.Area())\n",
        "        print(\"Perimeter: \", self.Perimeter())\n",
        "\n",
        "radius = float(input(\"Enter radius of the circle: \"))\n",
        "c = Circle (radius)\n",
        "c.Display()\n",
        "     "
      ],
      "metadata": {
        "colab": {
          "base_uri": "https://localhost:8080/"
        },
        "id": "A84-i7hhaIp0",
        "outputId": "9e71b1b2-4aa6-471f-db01-5072ed07df72"
      },
      "execution_count": 5,
      "outputs": [
        {
          "output_type": "stream",
          "name": "stdout",
          "text": [
            "Enter radius of the circle: 20\n",
            "Area:  1256.0\n",
            "Perimeter:  125.60000000000001\n"
          ]
        }
      ]
    }
  ]
}