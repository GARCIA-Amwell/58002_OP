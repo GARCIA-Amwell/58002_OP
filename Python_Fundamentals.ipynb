{
  "nbformat": 4,
  "nbformat_minor": 0,
  "metadata": {
    "colab": {
      "provenance": [],
      "authorship_tag": "ABX9TyM9UKisoDYgZHZF8FvBNrYI",
      "include_colab_link": true
    },
    "kernelspec": {
      "name": "python3",
      "display_name": "Python 3"
    },
    "language_info": {
      "name": "python"
    }
  },
  "cells": [
    {
      "cell_type": "markdown",
      "metadata": {
        "id": "view-in-github",
        "colab_type": "text"
      },
      "source": [
        "<a href=\"https://colab.research.google.com/github/GARCIA-Amwell/58002_OP/blob/main/Python_Fundamentals.ipynb\" target=\"_parent\"><img src=\"https://colab.research.google.com/assets/colab-badge.svg\" alt=\"Open In Colab\"/></a>"
      ]
    },
    {
      "cell_type": "markdown",
      "source": [
        "**Python Commands**"
      ],
      "metadata": {
        "id": "a9CJwce9yQHG"
      }
    },
    {
      "cell_type": "code",
      "source": [
        "if 5 > 2:\n",
        "    print(\"Five is greater than two!\")"
      ],
      "metadata": {
        "id": "8WKEhXJIxv3W"
      },
      "execution_count": null,
      "outputs": []
    },
    {
      "cell_type": "markdown",
      "source": [
        "**Naming variables**"
      ],
      "metadata": {
        "id": "scwWL2F3yVFO"
      }
    },
    {
      "cell_type": "code",
      "source": [
        "#Single variable with single value\n",
        "x = 1\n",
        "y = 2\n",
        "z = 3\n",
        "print(x)\n",
        "print(y)\n",
        "print (z)\n",
        "\n",
        "#Multiple variable wiht single value\n",
        "a = b = c = \"Mario\"\n",
        "print (a)\n",
        "print (b)\n",
        "print (c)\n",
        "\n",
        "#Multiple variable with multiple values\n",
        "e,f, g, = 4, 5, 6\n",
        "print(e)\n",
        "print (f)\n",
        "print (g)"
      ],
      "metadata": {
        "id": "-0HBa0Cfy_y-"
      },
      "execution_count": null,
      "outputs": []
    },
    {
      "cell_type": "code",
      "source": [
        "#Single or Double\n",
        "\n",
        "y = \"Sally\"\n",
        "v = \"Saly\"\n",
        "print(y)\n",
        "print(v)"
      ],
      "metadata": {
        "id": "L9iLfuqJ0sMo"
      },
      "execution_count": null,
      "outputs": []
    },
    {
      "cell_type": "code",
      "source": [
        "#Casting\n",
        "\n",
        "p = int(5)\n",
        "p\n",
        "\n",
        "#Type () function\n",
        "f = \"Allan\"\n",
        "g = \"4.56\"\n",
        "print (f)\n",
        "print (g)\n",
        "\n",
        "print(type(f))\n",
        "print(type(g))\n",
        "\n",
        "a = \"4\"\n",
        "A = \"Sally\"\n",
        "x = \" enjoying\"\n",
        "print (a)\n",
        "print (A)\n",
        "print (\"Python programming is\" + x)"
      ],
      "metadata": {
        "colab": {
          "base_uri": "https://localhost:8080/"
        },
        "id": "_isQB-2S1E6W",
        "outputId": "962af9b8-27ae-4310-d235-f00953173694"
      },
      "execution_count": 22,
      "outputs": [
        {
          "output_type": "stream",
          "name": "stdout",
          "text": [
            "Allan\n",
            "4.56\n",
            "<class 'str'>\n",
            "<class 'str'>\n",
            "4\n",
            "Sally\n",
            "Python programming is enjoying\n"
          ]
        }
      ]
    },
    {
      "cell_type": "markdown",
      "source": [
        "\n",
        "*   as long as enclosed with double quotation-- it will be treated as character\n",
        "*   type () function - kabaliktad ng casting\n"
      ],
      "metadata": {
        "id": "Z1EUCZUj3Hif"
      }
    },
    {
      "cell_type": "code",
      "source": [
        "k = \"enjoying\"\n",
        "j = \"Python programming is \"\n",
        "print(j+k)"
      ],
      "metadata": {
        "colab": {
          "base_uri": "https://localhost:8080/"
        },
        "id": "VQ-_hPeL34i-",
        "outputId": "706792d9-4954-4f80-da7f-4079f07b18ac"
      },
      "execution_count": 23,
      "outputs": [
        {
          "output_type": "stream",
          "name": "stdout",
          "text": [
            "Python programming is enjoying\n"
          ]
        }
      ]
    }
  ]
}