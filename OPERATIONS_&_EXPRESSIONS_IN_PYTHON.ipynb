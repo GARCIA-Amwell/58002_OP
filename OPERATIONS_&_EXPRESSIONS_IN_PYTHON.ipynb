{
  "nbformat": 4,
  "nbformat_minor": 0,
  "metadata": {
    "colab": {
      "provenance": [],
      "authorship_tag": "ABX9TyM88od788dBO5EIgV5b9lGo",
      "include_colab_link": true
    },
    "kernelspec": {
      "name": "python3",
      "display_name": "Python 3"
    },
    "language_info": {
      "name": "python"
    }
  },
  "cells": [
    {
      "cell_type": "markdown",
      "metadata": {
        "id": "view-in-github",
        "colab_type": "text"
      },
      "source": [
        "<a href=\"https://colab.research.google.com/github/GARCIA-Amwell/58002_OP/blob/main/OPERATIONS_%26_EXPRESSIONS_IN_PYTHON.ipynb\" target=\"_parent\"><img src=\"https://colab.research.google.com/assets/colab-badge.svg\" alt=\"Open In Colab\"/></a>"
      ]
    },
    {
      "cell_type": "markdown",
      "source": [
        "**BOOLEAN OPERATIONS**\n",
        "\n",
        "represent one of two values: true or false\n",
        "compares variables (can be two or more)\n",
        "<,>,=.\n",
        "\n",
        "bool function allows to evaluate and give you value in return: true or false\n",
        "\n",
        "a built in function\n",
        "\n",
        "1. comparison/relational\n",
        "2. "
      ],
      "metadata": {
        "id": "baN7B1FZzxHO"
      }
    },
    {
      "cell_type": "code",
      "source": [
        "print (10>9)\n",
        "print (10==9)\n",
        "print (10<9)"
      ],
      "metadata": {
        "colab": {
          "base_uri": "https://localhost:8080/"
        },
        "id": "8XoDeQGVBea0",
        "outputId": "d1699e30-c6b4-4c8f-c1c8-897992158ae5"
      },
      "execution_count": 3,
      "outputs": [
        {
          "output_type": "stream",
          "name": "stdout",
          "text": [
            "True\n",
            "False\n",
            "False\n"
          ]
        }
      ]
    },
    {
      "cell_type": "code",
      "source": [
        "a = 10\n",
        "b = 9\n",
        "print (a>b)\n",
        "print (a<b)\n",
        "print (a==b)\n",
        "print (b==b)"
      ],
      "metadata": {
        "colab": {
          "base_uri": "https://localhost:8080/"
        },
        "id": "yTHEQoHZBius",
        "outputId": "0ff142b5-ab87-41c4-94b7-5a3104b7a759"
      },
      "execution_count": 4,
      "outputs": [
        {
          "output_type": "stream",
          "name": "stdout",
          "text": [
            "True\n",
            "False\n",
            "False\n",
            "True\n"
          ]
        }
      ]
    },
    {
      "cell_type": "code",
      "source": [
        "print (bool(1))\n",
        "print (bool(0))\n",
        "print (bool(None))"
      ],
      "metadata": {
        "colab": {
          "base_uri": "https://localhost:8080/"
        },
        "id": "TPehEIscBizu",
        "outputId": "31527dd2-9b91-48fc-cb22-be369ade7e6c"
      },
      "execution_count": 5,
      "outputs": [
        {
          "output_type": "stream",
          "name": "stdout",
          "text": [
            "True\n",
            "False\n",
            "False\n"
          ]
        }
      ]
    },
    {
      "cell_type": "markdown",
      "source": [
        "any number and any character or string except zero (0) = true\n",
        "~empty/None = false"
      ],
      "metadata": {
        "id": "f_axEMqu1HEO"
      }
    },
    {
      "cell_type": "markdown",
      "source": [
        "**FUNCTION CAN RETURN A BOOLEAN**\n",
        "\n",
        "defmy Function()\n",
        "return True\n",
        "\n",
        "print(myFunction())"
      ],
      "metadata": {
        "id": "Nwl8P-PI1fTG"
      }
    },
    {
      "cell_type": "code",
      "source": [
        "def myFunction():\n",
        " return True\n",
        "\n",
        "print(myFunction())"
      ],
      "metadata": {
        "colab": {
          "base_uri": "https://localhost:8080/"
        },
        "id": "O7W5r93tB7WT",
        "outputId": "14d3a497-a866-4d57-fef8-9e15e15a5a10"
      },
      "execution_count": 6,
      "outputs": [
        {
          "output_type": "stream",
          "name": "stdout",
          "text": [
            "True\n"
          ]
        }
      ]
    },
    {
      "cell_type": "markdown",
      "source": [
        "**ALLIGNMENT/ SPACING**"
      ],
      "metadata": {
        "id": "gjyQVAx_2Qj_"
      }
    },
    {
      "cell_type": "code",
      "source": [
        "def myFunction():\n",
        "   return True\n",
        "if myFunction():\n",
        "     print(\"Yes!\")\n",
        "else:\n",
        "     print(\"No!\")"
      ],
      "metadata": {
        "colab": {
          "base_uri": "https://localhost:8080/"
        },
        "id": "bXWyDgmJCBPE",
        "outputId": "74930e22-6904-4034-8c19-ab4ccfe4c706"
      },
      "execution_count": 7,
      "outputs": [
        {
          "output_type": "stream",
          "name": "stdout",
          "text": [
            "Yes!\n"
          ]
        }
      ]
    },
    {
      "cell_type": "code",
      "source": [
        "print \n",
        "a=6\n",
        "a=7\n",
        "print (a==b)\n",
        "print (a!=a)\n",
        "print (b==a)"
      ],
      "metadata": {
        "colab": {
          "base_uri": "https://localhost:8080/"
        },
        "id": "JSgzc4uXCEUe",
        "outputId": "b9dba96a-d1fd-4d90-96d6-f31242f8c663"
      },
      "execution_count": 8,
      "outputs": [
        {
          "output_type": "stream",
          "name": "stdout",
          "text": [
            "False\n",
            "False\n",
            "False\n"
          ]
        }
      ]
    },
    {
      "cell_type": "markdown",
      "source": [
        "**PYTHON OPERATORS**\n",
        "\n",
        "operators are used to perform on variables and values\n",
        "\n",
        "% modulo division -- remainder (will not include the remainder)\n",
        "\n",
        "// floor division  \n",
        "** power ^(exponent)\n",
        "\n"
      ],
      "metadata": {
        "id": "l0HfDU6u3wPG"
      }
    },
    {
      "cell_type": "code",
      "source": [
        "print(10%5)\n",
        "print(10//3)\n",
        "print(10**2)"
      ],
      "metadata": {
        "colab": {
          "base_uri": "https://localhost:8080/"
        },
        "id": "U_CapiXWCHzc",
        "outputId": "00daa247-b9ea-4cca-f4e5-f724838c60e7"
      },
      "execution_count": 9,
      "outputs": [
        {
          "output_type": "stream",
          "name": "stdout",
          "text": [
            "0\n",
            "3\n",
            "100\n"
          ]
        }
      ]
    },
    {
      "cell_type": "code",
      "source": [
        "print(10+5)\n",
        "print(10-5)\n",
        "print(10*5)\n",
        "print(10/5)\n",
        "print(10//5)\n",
        "print(10%3)\n",
        "print(10**2)"
      ],
      "metadata": {
        "colab": {
          "base_uri": "https://localhost:8080/"
        },
        "id": "pKWwDRgOCJjc",
        "outputId": "a00bdd5d-a8c2-44c5-c529-cb24bde6853f"
      },
      "execution_count": 10,
      "outputs": [
        {
          "output_type": "stream",
          "name": "stdout",
          "text": [
            "15\n",
            "5\n",
            "50\n",
            "2.0\n",
            "2\n",
            "1\n",
            "100\n"
          ]
        }
      ]
    },
    {
      "cell_type": "markdown",
      "source": [
        "**PYTHON BITWISE OPERATORS**\n",
        "\n",
        "works on bits and performs bits-by-bits operation. Assume if a=60; and b=13: now in binary format they will be as follows\n",
        "\n",
        "<< = shifts to the right\n",
        "\n",
        "(>>) = hindi nilalagay sa regis???\n",
        "\n"
      ],
      "metadata": {
        "id": "iCZaM_pX51zX"
      }
    },
    {
      "cell_type": "code",
      "source": [
        "a=60\n",
        "b=13\n",
        "\n",
        "a<<1"
      ],
      "metadata": {
        "colab": {
          "base_uri": "https://localhost:8080/"
        },
        "id": "Cmub8W5nCOKD",
        "outputId": "2e963467-54b0-45c6-cb9c-cf841030b1c0"
      },
      "execution_count": 11,
      "outputs": [
        {
          "output_type": "execute_result",
          "data": {
            "text/plain": [
              "120"
            ]
          },
          "metadata": {},
          "execution_count": 11
        }
      ]
    },
    {
      "cell_type": "code",
      "source": [
        "a>>1"
      ],
      "metadata": {
        "colab": {
          "base_uri": "https://localhost:8080/"
        },
        "id": "EsFoYmStCPOD",
        "outputId": "571831c1-8553-4400-f9f4-c6dd024d0624"
      },
      "execution_count": 12,
      "outputs": [
        {
          "output_type": "execute_result",
          "data": {
            "text/plain": [
              "30"
            ]
          },
          "metadata": {},
          "execution_count": 12
        }
      ]
    },
    {
      "cell_type": "markdown",
      "source": [
        "**PYTHON ASSINGMENT OPERATORS**\n"
      ],
      "metadata": {
        "id": "L2cxDbHY9_cE"
      }
    },
    {
      "cell_type": "code",
      "source": [
        "x=10\n",
        "x += 3 # same as x = x + 3\n",
        "print(x)\n"
      ],
      "metadata": {
        "colab": {
          "base_uri": "https://localhost:8080/"
        },
        "id": "yK23lOj8CUsr",
        "outputId": "c55d2c85-e79a-4181-c9f0-208b2121462b"
      },
      "execution_count": 13,
      "outputs": [
        {
          "output_type": "stream",
          "name": "stdout",
          "text": [
            "13\n"
          ]
        }
      ]
    },
    {
      "cell_type": "markdown",
      "source": [
        "**LOGICAL OPERATORS**\n",
        "\n"
      ],
      "metadata": {
        "id": "afZwJKmw_rgV"
      }
    },
    {
      "cell_type": "code",
      "source": [
        "print(x)\n",
        "\n",
        "x = True\n",
        "y = False"
      ],
      "metadata": {
        "colab": {
          "base_uri": "https://localhost:8080/"
        },
        "id": "yPEWGmDQCYCE",
        "outputId": "6785273f-c388-4273-cfc9-78a23ed999ce"
      },
      "execution_count": 15,
      "outputs": [
        {
          "output_type": "stream",
          "name": "stdout",
          "text": [
            "True\n"
          ]
        }
      ]
    },
    {
      "cell_type": "markdown",
      "source": [],
      "metadata": {
        "id": "PhAZDRedCmAs"
      }
    },
    {
      "cell_type": "code",
      "source": [
        "print (x and y)\n",
        "print (x or y)\n",
        "print(not(x or y ))"
      ],
      "metadata": {
        "colab": {
          "base_uri": "https://localhost:8080/"
        },
        "id": "UvoFOjq5CdSk",
        "outputId": "d2e3a50a-199a-43ed-fba5-4dc566e7a380"
      },
      "execution_count": 16,
      "outputs": [
        {
          "output_type": "stream",
          "name": "stdout",
          "text": [
            "False\n",
            "True\n",
            "False\n"
          ]
        }
      ]
    },
    {
      "cell_type": "code",
      "source": [
        "print (x is y)\n",
        "print (x is not y)"
      ],
      "metadata": {
        "colab": {
          "base_uri": "https://localhost:8080/"
        },
        "id": "u-wURGzIC0h7",
        "outputId": "3290d66d-f64b-4b95-83ba-fc1a911725ee"
      },
      "execution_count": 18,
      "outputs": [
        {
          "output_type": "stream",
          "name": "stdout",
          "text": [
            "False\n",
            "True\n"
          ]
        }
      ]
    },
    {
      "cell_type": "markdown",
      "source": [
        "**APPLICATION 1 CREATE AN ARITHMETIC CALCULATOR (MDAS)**"
      ],
      "metadata": {
        "id": "RciH6vMGC5Ys"
      }
    },
    {
      "cell_type": "code",
      "source": [
        "print(\"Input first number here: \")\n",
        "print(\"Input second number here: \")\n"
      ],
      "metadata": {
        "colab": {
          "base_uri": "https://localhost:8080/"
        },
        "id": "tVWv0IFrDBu8",
        "outputId": "d148a076-5e59-4d3f-bcbe-837ed089c55a"
      },
      "execution_count": 24,
      "outputs": [
        {
          "output_type": "stream",
          "name": "stdout",
          "text": [
            "Input first number here: \n",
            "Input second number here: \n"
          ]
        }
      ]
    }
  ]
}