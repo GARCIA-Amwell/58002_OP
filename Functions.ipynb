{
  "nbformat": 4,
  "nbformat_minor": 0,
  "metadata": {
    "colab": {
      "provenance": [],
      "authorship_tag": "ABX9TyOrNMiTaAnQQ6WoQ42bGpO5",
      "include_colab_link": true
    },
    "kernelspec": {
      "name": "python3",
      "display_name": "Python 3"
    },
    "language_info": {
      "name": "python"
    }
  },
  "cells": [
    {
      "cell_type": "markdown",
      "metadata": {
        "id": "view-in-github",
        "colab_type": "text"
      },
      "source": [
        "<a href=\"https://colab.research.google.com/github/GARCIA-Amwell/58002_OP/blob/main/Functions.ipynb\" target=\"_parent\"><img src=\"https://colab.research.google.com/assets/colab-badge.svg\" alt=\"Open In Colab\"/></a>"
      ]
    },
    {
      "cell_type": "code",
      "execution_count": 6,
      "metadata": {
        "colab": {
          "base_uri": "https://localhost:8080/"
        },
        "id": "lEXhOxLdyg0L",
        "outputId": "f3ace14b-68e0-498b-9ece-25a75eff11c1"
      },
      "outputs": [
        {
          "output_type": "execute_result",
          "data": {
            "text/plain": [
              "2"
            ]
          },
          "metadata": {},
          "execution_count": 6
        }
      ],
      "source": [
        "def remainder (n,m):\n",
        "  while True:\n",
        "      if n - m < 0:\n",
        "          return n\n",
        "      else:\n",
        "          n = n - m\n",
        "\n",
        "remainder (10,4)"
      ]
    },
    {
      "cell_type": "code",
      "source": [
        "class Shape:\n",
        "  def __init__(self, length, width):\n",
        "    self.length = length\n",
        "    self.width = width\n",
        "\n",
        "  def area_rec(self):\n",
        "    return self.length * self.width \n",
        " # def area_sqr(self):\n",
        "   # return self.side * self.side\n",
        "\n",
        "rectangle = Shape(10,5)\n",
        "rectangle.area_rec()"
      ],
      "metadata": {
        "colab": {
          "base_uri": "https://localhost:8080/"
        },
        "id": "L-U--oC51Clj",
        "outputId": "501b9e16-94c0-48a6-f45c-897c64257424"
      },
      "execution_count": 29,
      "outputs": [
        {
          "output_type": "execute_result",
          "data": {
            "text/plain": [
              "50"
            ]
          },
          "metadata": {},
          "execution_count": 29
        }
      ]
    },
    {
      "cell_type": "markdown",
      "source": [
        "Create a function that will display your full name and name your class as Person"
      ],
      "metadata": {
        "id": "6R5VeytI3Zkc"
      }
    },
    {
      "cell_type": "code",
      "source": [
        "def name():\n",
        "  return \"Amwell Garcia\"\n",
        "print(\"My name is \" + name())\n",
        "\n",
        "def block():\n",
        "  return \" Computer Engineering 102\"\n",
        "print(\"My block section is\" + block())"
      ],
      "metadata": {
        "colab": {
          "base_uri": "https://localhost:8080/"
        },
        "id": "wGOBGnmv9hms",
        "outputId": "c041803c-1dbe-47c6-a386-3f581ba61858"
      },
      "execution_count": 47,
      "outputs": [
        {
          "output_type": "stream",
          "name": "stdout",
          "text": [
            "My name is Amwell Garcia\n",
            "My block section isComputer Engineering 102\n"
          ]
        }
      ]
    },
    {
      "cell_type": "markdown",
      "source": [
        "TRY TRY TRY TRY\n",
        "\n",
        "PERO MALI"
      ],
      "metadata": {
        "id": "tR2q7_QJ-Ujc"
      }
    },
    {
      "cell_type": "code",
      "source": [
        "def introduce_my_class():\n",
        "class remainder:\n",
        "  def __init__(Full name, Class person):\n",
        "    self.Full name == Full name\n",
        "    self.Class person == Class person\n",
        "\n",
        "Full name = Garcia\n",
        "Class person = 102"
      ],
      "metadata": {
        "colab": {
          "base_uri": "https://localhost:8080/",
          "height": 130
        },
        "id": "mpBp-X2T5JHS",
        "outputId": "dc0152e7-e6b6-4fda-beb4-7b9bc12f8090"
      },
      "execution_count": 36,
      "outputs": [
        {
          "output_type": "error",
          "ename": "SyntaxError",
          "evalue": "ignored",
          "traceback": [
            "\u001b[0;36m  File \u001b[0;32m\"<ipython-input-36-6287f46feda1>\"\u001b[0;36m, line \u001b[0;32m2\u001b[0m\n\u001b[0;31m    def __init__(Full name, Class person):\u001b[0m\n\u001b[0m                      ^\u001b[0m\n\u001b[0;31mSyntaxError\u001b[0m\u001b[0;31m:\u001b[0m invalid syntax\n"
          ]
        }
      ]
    }
  ]
}